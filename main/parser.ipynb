{
 "cells": [
  {
   "cell_type": "code",
   "execution_count": null,
   "metadata": {},
   "outputs": [],
   "source": [
    "import cianparser\n",
    "\n",
    "# Создаем экземпляр парсера\n",
    "parser = cianparser.CianParser(location=\"Можайск\")\n",
    "\n",
    "# Получаем данные\n",
    "data = parser.get_flats(deal_type=\"sale\", rooms=(3), additional_settings={\"start_page\":8, \"end_page\": 15}, with_extra_data=True, with_saving_csv=True)"
   ]
  }
 ],
 "metadata": {
  "kernelspec": {
   "display_name": ".venv",
   "language": "python",
   "name": "python3"
  },
  "language_info": {
   "name": "python",
   "version": "3.12.4"
  }
 },
 "nbformat": 4,
 "nbformat_minor": 2
}
