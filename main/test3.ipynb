{
 "cells": [
  {
   "cell_type": "code",
   "execution_count": 343,
   "metadata": {},
   "outputs": [],
   "source": [
    "import pandas as pd\n",
    "import matplotlib.pyplot as plt\n",
    "import missingno as msno\n",
    "import seaborn as sns\n",
    "import numpy as np"
   ]
  },
  {
   "cell_type": "code",
   "execution_count": 344,
   "metadata": {},
   "outputs": [
    {
     "data": {
      "text/html": [
       "<div>\n",
       "<style scoped>\n",
       "    .dataframe tbody tr th:only-of-type {\n",
       "        vertical-align: middle;\n",
       "    }\n",
       "\n",
       "    .dataframe tbody tr th {\n",
       "        vertical-align: top;\n",
       "    }\n",
       "\n",
       "    .dataframe thead th {\n",
       "        text-align: right;\n",
       "    }\n",
       "</style>\n",
       "<table border=\"1\" class=\"dataframe\">\n",
       "  <thead>\n",
       "    <tr style=\"text-align: right;\">\n",
       "      <th></th>\n",
       "      <th>author</th>\n",
       "      <th>author_type</th>\n",
       "      <th>url</th>\n",
       "      <th>location</th>\n",
       "      <th>deal_type</th>\n",
       "      <th>accommodation_type</th>\n",
       "      <th>floor</th>\n",
       "      <th>floors_count</th>\n",
       "      <th>rooms_count</th>\n",
       "      <th>total_meters</th>\n",
       "      <th>...</th>\n",
       "      <th>finish_type</th>\n",
       "      <th>living_meters</th>\n",
       "      <th>kitchen_meters</th>\n",
       "      <th>phone</th>\n",
       "      <th>ceiling_height</th>\n",
       "      <th>district</th>\n",
       "      <th>street</th>\n",
       "      <th>house_number</th>\n",
       "      <th>underground</th>\n",
       "      <th>residential_complex</th>\n",
       "    </tr>\n",
       "  </thead>\n",
       "  <tbody>\n",
       "    <tr>\n",
       "      <th>0</th>\n",
       "      <td>ANT Development</td>\n",
       "      <td>developer</td>\n",
       "      <td>https://www.cian.ru/sale/flat/303519398/</td>\n",
       "      <td>Москва</td>\n",
       "      <td>sale</td>\n",
       "      <td>flat</td>\n",
       "      <td>11</td>\n",
       "      <td>13</td>\n",
       "      <td>5</td>\n",
       "      <td>265.6</td>\n",
       "      <td>...</td>\n",
       "      <td>Чистовая</td>\n",
       "      <td>-1</td>\n",
       "      <td>-1</td>\n",
       "      <td>74951346248</td>\n",
       "      <td>3 м</td>\n",
       "      <td>Дорогомилово</td>\n",
       "      <td>NaN</td>\n",
       "      <td>3к1</td>\n",
       "      <td>Парк Победы</td>\n",
       "      <td>Виктори Парк Резиденсез ЖК</td>\n",
       "    </tr>\n",
       "    <tr>\n",
       "      <th>1</th>\n",
       "      <td>ID 18174647</td>\n",
       "      <td>realtor</td>\n",
       "      <td>https://www.cian.ru/sale/flat/301450189/</td>\n",
       "      <td>Москва</td>\n",
       "      <td>sale</td>\n",
       "      <td>flat</td>\n",
       "      <td>26</td>\n",
       "      <td>31</td>\n",
       "      <td>5</td>\n",
       "      <td>246.7</td>\n",
       "      <td>...</td>\n",
       "      <td>-1</td>\n",
       "      <td>140,9 м²</td>\n",
       "      <td>28 м²</td>\n",
       "      <td>79166462390</td>\n",
       "      <td>3,1 м</td>\n",
       "      <td>Очаково-Матвеевское</td>\n",
       "      <td>Нежинская</td>\n",
       "      <td>1к1</td>\n",
       "      <td>Давыдково</td>\n",
       "      <td>Кутузовская Ривьера</td>\n",
       "    </tr>\n",
       "    <tr>\n",
       "      <th>2</th>\n",
       "      <td>Monumental Group</td>\n",
       "      <td>real_estate_agent</td>\n",
       "      <td>https://www.cian.ru/sale/flat/306835123/</td>\n",
       "      <td>Москва</td>\n",
       "      <td>sale</td>\n",
       "      <td>flat</td>\n",
       "      <td>4</td>\n",
       "      <td>8</td>\n",
       "      <td>5</td>\n",
       "      <td>117.0</td>\n",
       "      <td>...</td>\n",
       "      <td>-1</td>\n",
       "      <td>-1</td>\n",
       "      <td>10 м²</td>\n",
       "      <td>79672086536</td>\n",
       "      <td>3,2 м</td>\n",
       "      <td>Пресненский</td>\n",
       "      <td>Большая Садовая</td>\n",
       "      <td>3С1</td>\n",
       "      <td>Маяковская</td>\n",
       "      <td>NaN</td>\n",
       "    </tr>\n",
       "    <tr>\n",
       "      <th>3</th>\n",
       "      <td>Главстрой</td>\n",
       "      <td>developer</td>\n",
       "      <td>https://www.cian.ru/sale/flat/296921235/</td>\n",
       "      <td>Москва</td>\n",
       "      <td>sale</td>\n",
       "      <td>flat</td>\n",
       "      <td>24</td>\n",
       "      <td>24</td>\n",
       "      <td>5</td>\n",
       "      <td>172.5</td>\n",
       "      <td>...</td>\n",
       "      <td>Без отделки</td>\n",
       "      <td>104,6 м²</td>\n",
       "      <td>10,5 м²</td>\n",
       "      <td>74951379308</td>\n",
       "      <td>3,2 м</td>\n",
       "      <td>Филевский парк</td>\n",
       "      <td>Береговой проезд</td>\n",
       "      <td>2</td>\n",
       "      <td>Фили</td>\n",
       "      <td>Береговой-2</td>\n",
       "    </tr>\n",
       "    <tr>\n",
       "      <th>4</th>\n",
       "      <td>Рента</td>\n",
       "      <td>real_estate_agent</td>\n",
       "      <td>https://www.cian.ru/sale/flat/307983948/</td>\n",
       "      <td>Москва</td>\n",
       "      <td>sale</td>\n",
       "      <td>flat</td>\n",
       "      <td>3</td>\n",
       "      <td>9</td>\n",
       "      <td>5</td>\n",
       "      <td>234.8</td>\n",
       "      <td>...</td>\n",
       "      <td>-1</td>\n",
       "      <td>140 м²</td>\n",
       "      <td>23 м²</td>\n",
       "      <td>79663231016</td>\n",
       "      <td>-1</td>\n",
       "      <td>Тверской</td>\n",
       "      <td>Краснопролетарская</td>\n",
       "      <td>7</td>\n",
       "      <td>Новослободская</td>\n",
       "      <td>Ласточкино гнездо</td>\n",
       "    </tr>\n",
       "  </tbody>\n",
       "</table>\n",
       "<p>5 rows × 27 columns</p>\n",
       "</div>"
      ],
      "text/plain": [
       "             author        author_type  \\\n",
       "0   ANT Development          developer   \n",
       "1       ID 18174647            realtor   \n",
       "2  Monumental Group  real_estate_agent   \n",
       "3         Главстрой          developer   \n",
       "4             Рента  real_estate_agent   \n",
       "\n",
       "                                        url location deal_type  \\\n",
       "0  https://www.cian.ru/sale/flat/303519398/   Москва      sale   \n",
       "1  https://www.cian.ru/sale/flat/301450189/   Москва      sale   \n",
       "2  https://www.cian.ru/sale/flat/306835123/   Москва      sale   \n",
       "3  https://www.cian.ru/sale/flat/296921235/   Москва      sale   \n",
       "4  https://www.cian.ru/sale/flat/307983948/   Москва      sale   \n",
       "\n",
       "  accommodation_type floor floors_count rooms_count total_meters  ...  \\\n",
       "0               flat    11           13           5        265.6  ...   \n",
       "1               flat    26           31           5        246.7  ...   \n",
       "2               flat     4            8           5        117.0  ...   \n",
       "3               flat    24           24           5        172.5  ...   \n",
       "4               flat     3            9           5        234.8  ...   \n",
       "\n",
       "   finish_type living_meters kitchen_meters        phone ceiling_height  \\\n",
       "0     Чистовая            -1             -1  74951346248            3 м   \n",
       "1           -1      140,9 м²          28 м²  79166462390          3,1 м   \n",
       "2           -1            -1          10 м²  79672086536          3,2 м   \n",
       "3  Без отделки      104,6 м²        10,5 м²  74951379308          3,2 м   \n",
       "4           -1        140 м²          23 м²  79663231016             -1   \n",
       "\n",
       "              district               street house_number     underground  \\\n",
       "0         Дорогомилово                  NaN          3к1     Парк Победы   \n",
       "1  Очаково-Матвеевское           Нежинская           1к1       Давыдково   \n",
       "2          Пресненский     Большая Садовая           3С1      Маяковская   \n",
       "3       Филевский парк     Береговой проезд            2            Фили   \n",
       "4             Тверской  Краснопролетарская             7  Новослободская   \n",
       "\n",
       "          residential_complex  \n",
       "0  Виктори Парк Резиденсез ЖК  \n",
       "1         Кутузовская Ривьера  \n",
       "2                         NaN  \n",
       "3                 Береговой-2  \n",
       "4           Ласточкино гнездо  \n",
       "\n",
       "[5 rows x 27 columns]"
      ]
     },
     "execution_count": 344,
     "metadata": {},
     "output_type": "execute_result"
    }
   ],
   "source": [
    "df = pd.read_csv(\"dataframe.csv\")\n",
    "df.head()"
   ]
  },
  {
   "cell_type": "code",
   "execution_count": 345,
   "metadata": {},
   "outputs": [
    {
     "data": {
      "text/plain": [
       "(7978, 27)"
      ]
     },
     "execution_count": 345,
     "metadata": {},
     "output_type": "execute_result"
    }
   ],
   "source": [
    "df.shape"
   ]
  },
  {
   "cell_type": "code",
   "execution_count": 346,
   "metadata": {},
   "outputs": [
    {
     "data": {
      "text/html": [
       "<div>\n",
       "<style scoped>\n",
       "    .dataframe tbody tr th:only-of-type {\n",
       "        vertical-align: middle;\n",
       "    }\n",
       "\n",
       "    .dataframe tbody tr th {\n",
       "        vertical-align: top;\n",
       "    }\n",
       "\n",
       "    .dataframe thead th {\n",
       "        text-align: right;\n",
       "    }\n",
       "</style>\n",
       "<table border=\"1\" class=\"dataframe\">\n",
       "  <thead>\n",
       "    <tr style=\"text-align: right;\">\n",
       "      <th></th>\n",
       "      <th>location</th>\n",
       "      <th>floor</th>\n",
       "      <th>floors_count</th>\n",
       "      <th>rooms_count</th>\n",
       "      <th>total_meters</th>\n",
       "      <th>price</th>\n",
       "      <th>year_of_construction</th>\n",
       "      <th>object_type</th>\n",
       "      <th>have_loggia</th>\n",
       "      <th>parking_type</th>\n",
       "      <th>house_material_type</th>\n",
       "      <th>heating_type</th>\n",
       "      <th>finish_type</th>\n",
       "      <th>living_meters</th>\n",
       "      <th>kitchen_meters</th>\n",
       "      <th>ceiling_height</th>\n",
       "      <th>district</th>\n",
       "      <th>street</th>\n",
       "      <th>underground</th>\n",
       "      <th>residential_complex</th>\n",
       "    </tr>\n",
       "  </thead>\n",
       "  <tbody>\n",
       "    <tr>\n",
       "      <th>0</th>\n",
       "      <td>Москва</td>\n",
       "      <td>11</td>\n",
       "      <td>13</td>\n",
       "      <td>5</td>\n",
       "      <td>265.6</td>\n",
       "      <td>405328840</td>\n",
       "      <td>2024</td>\n",
       "      <td>Новостройка</td>\n",
       "      <td>-1</td>\n",
       "      <td>-1</td>\n",
       "      <td>Монолитный</td>\n",
       "      <td>-1</td>\n",
       "      <td>Чистовая</td>\n",
       "      <td>-1</td>\n",
       "      <td>-1</td>\n",
       "      <td>3 м</td>\n",
       "      <td>Дорогомилово</td>\n",
       "      <td>NaN</td>\n",
       "      <td>Парк Победы</td>\n",
       "      <td>Виктори Парк Резиденсез ЖК</td>\n",
       "    </tr>\n",
       "    <tr>\n",
       "      <th>1</th>\n",
       "      <td>Москва</td>\n",
       "      <td>26</td>\n",
       "      <td>31</td>\n",
       "      <td>5</td>\n",
       "      <td>246.7</td>\n",
       "      <td>288063785</td>\n",
       "      <td>2008</td>\n",
       "      <td>Вторичка</td>\n",
       "      <td>3 балкона</td>\n",
       "      <td>Подземная</td>\n",
       "      <td>-1</td>\n",
       "      <td>-1</td>\n",
       "      <td>-1</td>\n",
       "      <td>140,9 м²</td>\n",
       "      <td>28 м²</td>\n",
       "      <td>3,1 м</td>\n",
       "      <td>Очаково-Матвеевское</td>\n",
       "      <td>Нежинская</td>\n",
       "      <td>Давыдково</td>\n",
       "      <td>Кутузовская Ривьера</td>\n",
       "    </tr>\n",
       "    <tr>\n",
       "      <th>2</th>\n",
       "      <td>Москва</td>\n",
       "      <td>4</td>\n",
       "      <td>8</td>\n",
       "      <td>5</td>\n",
       "      <td>117.0</td>\n",
       "      <td>58500000</td>\n",
       "      <td>1939</td>\n",
       "      <td>Вторичка</td>\n",
       "      <td>1 балкон</td>\n",
       "      <td>Открытая</td>\n",
       "      <td>-1</td>\n",
       "      <td>-1</td>\n",
       "      <td>-1</td>\n",
       "      <td>-1</td>\n",
       "      <td>10 м²</td>\n",
       "      <td>3,2 м</td>\n",
       "      <td>Пресненский</td>\n",
       "      <td>Большая Садовая</td>\n",
       "      <td>Маяковская</td>\n",
       "      <td>NaN</td>\n",
       "    </tr>\n",
       "    <tr>\n",
       "      <th>3</th>\n",
       "      <td>Москва</td>\n",
       "      <td>24</td>\n",
       "      <td>24</td>\n",
       "      <td>5</td>\n",
       "      <td>172.5</td>\n",
       "      <td>207000000</td>\n",
       "      <td>2024</td>\n",
       "      <td>Новостройка</td>\n",
       "      <td>-1</td>\n",
       "      <td>-1</td>\n",
       "      <td>Монолитно-кирпичный</td>\n",
       "      <td>-1</td>\n",
       "      <td>Без отделки</td>\n",
       "      <td>104,6 м²</td>\n",
       "      <td>10,5 м²</td>\n",
       "      <td>3,2 м</td>\n",
       "      <td>Филевский парк</td>\n",
       "      <td>Береговой проезд</td>\n",
       "      <td>Фили</td>\n",
       "      <td>Береговой-2</td>\n",
       "    </tr>\n",
       "    <tr>\n",
       "      <th>4</th>\n",
       "      <td>Москва</td>\n",
       "      <td>3</td>\n",
       "      <td>9</td>\n",
       "      <td>5</td>\n",
       "      <td>234.8</td>\n",
       "      <td>125000000</td>\n",
       "      <td>1999</td>\n",
       "      <td>Вторичка</td>\n",
       "      <td>1 лоджия, 2 балкона</td>\n",
       "      <td>Подземная</td>\n",
       "      <td>-1</td>\n",
       "      <td>-1</td>\n",
       "      <td>-1</td>\n",
       "      <td>140 м²</td>\n",
       "      <td>23 м²</td>\n",
       "      <td>-1</td>\n",
       "      <td>Тверской</td>\n",
       "      <td>Краснопролетарская</td>\n",
       "      <td>Новослободская</td>\n",
       "      <td>Ласточкино гнездо</td>\n",
       "    </tr>\n",
       "  </tbody>\n",
       "</table>\n",
       "</div>"
      ],
      "text/plain": [
       "  location floor floors_count rooms_count total_meters      price  \\\n",
       "0   Москва    11           13           5        265.6  405328840   \n",
       "1   Москва    26           31           5        246.7  288063785   \n",
       "2   Москва     4            8           5        117.0   58500000   \n",
       "3   Москва    24           24           5        172.5  207000000   \n",
       "4   Москва     3            9           5        234.8  125000000   \n",
       "\n",
       "  year_of_construction  object_type          have_loggia parking_type  \\\n",
       "0                 2024  Новостройка                   -1           -1   \n",
       "1                 2008     Вторичка            3 балкона    Подземная   \n",
       "2                 1939     Вторичка             1 балкон     Открытая   \n",
       "3                 2024  Новостройка                   -1           -1   \n",
       "4                 1999     Вторичка  1 лоджия, 2 балкона    Подземная   \n",
       "\n",
       "   house_material_type heating_type  finish_type living_meters kitchen_meters  \\\n",
       "0           Монолитный           -1     Чистовая            -1             -1   \n",
       "1                   -1           -1           -1      140,9 м²          28 м²   \n",
       "2                   -1           -1           -1            -1          10 м²   \n",
       "3  Монолитно-кирпичный           -1  Без отделки      104,6 м²        10,5 м²   \n",
       "4                   -1           -1           -1        140 м²          23 м²   \n",
       "\n",
       "  ceiling_height             district               street     underground  \\\n",
       "0            3 м         Дорогомилово                  NaN     Парк Победы   \n",
       "1          3,1 м  Очаково-Матвеевское           Нежинская        Давыдково   \n",
       "2          3,2 м          Пресненский     Большая Садовая       Маяковская   \n",
       "3          3,2 м       Филевский парк     Береговой проезд            Фили   \n",
       "4             -1             Тверской  Краснопролетарская   Новослободская   \n",
       "\n",
       "          residential_complex  \n",
       "0  Виктори Парк Резиденсез ЖК  \n",
       "1         Кутузовская Ривьера  \n",
       "2                         NaN  \n",
       "3                 Береговой-2  \n",
       "4           Ласточкино гнездо  "
      ]
     },
     "execution_count": 346,
     "metadata": {},
     "output_type": "execute_result"
    }
   ],
   "source": [
    "df.drop(columns=['author', 'author_type', 'deal_type', 'url', 'accommodation_type', 'phone', 'house_number'], inplace=True)\n",
    "df.head()"
   ]
  },
  {
   "cell_type": "code",
   "execution_count": 347,
   "metadata": {},
   "outputs": [
    {
     "data": {
      "text/plain": [
       "(7978, 20)"
      ]
     },
     "execution_count": 347,
     "metadata": {},
     "output_type": "execute_result"
    }
   ],
   "source": [
    "df.shape"
   ]
  },
  {
   "cell_type": "code",
   "execution_count": 348,
   "metadata": {},
   "outputs": [
    {
     "data": {
      "text/plain": [
       "<Figure size 1000x600 with 0 Axes>"
      ]
     },
     "metadata": {},
     "output_type": "display_data"
    },
    {
     "data": {
      "image/png": "[encoded data removed]",
      "text/plain": [
       "<Figure size 2500x1000 with 2 Axes>"
      ]
     },
     "metadata": {},
     "output_type": "display_data"
    }
   ],
   "source": [
    "plt.figure(figsize=(10, 6))\n",
    "msno.matrix(df)\n",
    "plt.show()"
   ]
  },
  {
   "cell_type": "code",
   "execution_count": 349,
   "metadata": {},
   "outputs": [
    {
     "data": {
      "text/plain": [
       "(7215, 20)"
      ]
     },
     "execution_count": 349,
     "metadata": {},
     "output_type": "execute_result"
    }
   ],
   "source": [
    "df = df.dropna(thresh=4)\n",
    "df = df.drop_duplicates()\n",
    "df.shape"
   ]
  },
  {
   "cell_type": "code",
   "execution_count": 350,
   "metadata": {},
   "outputs": [],
   "source": [
    "df['have_loggia'] = df['have_loggia'].fillna('0')\n",
    "df['parking_type'] = df['parking_type'].fillna('0')"
   ]
  },
  {
   "cell_type": "code",
   "execution_count": 351,
   "metadata": {},
   "outputs": [],
   "source": [
    "null_counts_cian = df.isnull().sum().reset_index()\n",
    "null_counts_cian.columns = ['Column', 'Null Count']\n"
   ]
  },
  {
   "cell_type": "code",
   "execution_count": 352,
   "metadata": {},
   "outputs": [
    {
     "name": "stdout",
     "output_type": "stream",
     "text": [
      "        location floor floors_count rooms_count total_meters price  \\\n",
      "1880      Москва    16           47           4         80.3   NaN   \n",
      "1906      Москва     2           59           4         94.9   NaN   \n",
      "2145    Одинцово     2           24           4        82.78   NaN   \n",
      "2597  Котельники     2           59           2         31.1   NaN   \n",
      "4499      Москва     6           59           5        103.9   NaN   \n",
      "6658      Москва     8           59           3         56.1   NaN   \n",
      "7048    Одинцово     2           24           1         36.3   NaN   \n",
      "7130  Ивантеевка     2           59           2         31.1   NaN   \n",
      "7149  Ивантеевка     9           12           3        115.1   NaN   \n",
      "7292      Москва     2           59           2         31.1   NaN   \n",
      "7483      Москва     2           59           1         30.4   NaN   \n",
      "7597      Москва    14           21           1        38.93   NaN   \n",
      "7661      Москва    11           21           3         74.5   NaN   \n",
      "\n",
      "     year_of_construction                object_type have_loggia parking_type  \\\n",
      "1880                 2027                Новостройка          -1    Подземная   \n",
      "1906                 2028                Новостройка          -1           -1   \n",
      "2145                 2025                Новостройка          -1    Подземная   \n",
      "2597                 2028                Новостройка          -1           -1   \n",
      "4499                 2028                Новостройка          -1           -1   \n",
      "6658                 2028                Новостройка          -1           -1   \n",
      "7048                 2025                Новостройка          -1    Подземная   \n",
      "7130                 2028                Новостройка          -1           -1   \n",
      "7149                 2023                Новостройка          -1           -1   \n",
      "7292                 2028                Новостройка          -1           -1   \n",
      "7483                 2028                Новостройка          -1           -1   \n",
      "7597                 2026                Новостройка          -1    Подземная   \n",
      "7661                 2020  Новостройка / Апартаменты          -1           -1   \n",
      "\n",
      "                  house_material_type heating_type  \\\n",
      "1880                       Монолитный           -1   \n",
      "1906              Монолитно-кирпичный           -1   \n",
      "2145  Монолитно-кирпичный, монолитный           -1   \n",
      "2597              Монолитно-кирпичный           -1   \n",
      "4499              Монолитно-кирпичный           -1   \n",
      "6658              Монолитно-кирпичный           -1   \n",
      "7048  Монолитно-кирпичный, монолитный           -1   \n",
      "7130              Монолитно-кирпичный           -1   \n",
      "7149                               -1           -1   \n",
      "7292              Монолитно-кирпичный           -1   \n",
      "7483              Монолитно-кирпичный           -1   \n",
      "7597  Монолитно-кирпичный, монолитный           -1   \n",
      "7661                       Монолитный           -1   \n",
      "\n",
      "                              finish_type living_meters kitchen_meters  \\\n",
      "1880  Без отделки, предчистовая, чистовая       33,6 м²        27,6 м²   \n",
      "1906                         Предчистовая       54,6 м²             -1   \n",
      "2145            Без отделки, предчистовая       49,7 м²             -1   \n",
      "2597                         Предчистовая       15,7 м²             -1   \n",
      "4499                         Предчистовая       65,7 м²             -1   \n",
      "6658                         Предчистовая       36,1 м²             -1   \n",
      "7048            Без отделки, предчистовая       21,8 м²             -1   \n",
      "7130                         Предчистовая       15,7 м²             -1   \n",
      "7149                           Неизвестно       48,4 м²          28 м²   \n",
      "7292                         Предчистовая       15,7 м²             -1   \n",
      "7483                         Предчистовая        9,7 м²             -1   \n",
      "7597  Без отделки, предчистовая, чистовая            -1             -1   \n",
      "7661     Предчистовая, черновая, чистовая       46,9 м²         7,8 м²   \n",
      "\n",
      "     ceiling_height             district             street  underground  \\\n",
      "1880         2,68 м            Печатники                NaN  Кожуховская   \n",
      "1906         2,85 м            Можайский                NaN    Давыдково   \n",
      "2145          2,8 м                  NaN                NaN     Одинцово   \n",
      "2597         2,85 м            Можайский                NaN    Давыдково   \n",
      "4499         2,85 м            Можайский                NaN    Давыдково   \n",
      "6658         2,85 м            Можайский                NaN    Давыдково   \n",
      "7048          2,8 м                  NaN                NaN     Одинцово   \n",
      "7130         2,85 м            Можайский                NaN    Давыдково   \n",
      "7149         2,85 м           Приморский    Белоостровская        Лесная   \n",
      "7292         2,85 м            Можайский                NaN    Давыдково   \n",
      "7483         2,85 м            Можайский                NaN    Давыдково   \n",
      "7597         2,85 м    Западное Дегунино        Северный ао  Селигерская   \n",
      "7661          3,3 м  Очаково-Матвеевское  Аминьевское шоссе    Давыдково   \n",
      "\n",
      "                         residential_complex  \n",
      "1880                   Левел Южнопортовая ЖК  \n",
      "1906                                 Веер ЖК  \n",
      "2145                                Одинбург  \n",
      "2597                                 Веер ЖК  \n",
      "4499                                 Веер ЖК  \n",
      "6658                                 Веер ЖК  \n",
      "7048                                Одинбург  \n",
      "7130                                 Веер ЖК  \n",
      "7149                            Белый остров  \n",
      "7292                                 Веер ЖК  \n",
      "7483                                 Веер ЖК  \n",
      "7597                         Селигер Сити ЖК  \n",
      "7661  West Tower (Апартаменты бизнес-класса)  \n"
     ]
    }
   ],
   "source": [
    "nul_price = df[df['price'].isnull() == True]\n",
    "print(nul_price)\n",
    "df = df.dropna(subset=['price'])"
   ]
  },
  {
   "cell_type": "code",
   "execution_count": 353,
   "metadata": {},
   "outputs": [
    {
     "name": "stdout",
     "output_type": "stream",
     "text": [
      "Empty DataFrame\n",
      "Columns: [location, floor, floors_count, rooms_count, total_meters, price, year_of_construction, object_type, have_loggia, parking_type, house_material_type, heating_type, finish_type, living_meters, kitchen_meters, ceiling_height, district, street, underground, residential_complex]\n",
      "Index: []\n"
     ]
    }
   ],
   "source": [
    "nul_p = df[df['price'].isnull() == True]\n",
    "print(nul_p)"
   ]
  },
  {
   "cell_type": "markdown",
   "metadata": {},
   "source": [
    "обработка нулей и данных"
   ]
  },
  {
   "cell_type": "code",
   "execution_count": 354,
   "metadata": {},
   "outputs": [
    {
     "name": "stdout",
     "output_type": "stream",
     "text": [
      "<class 'pandas.core.frame.DataFrame'>\n",
      "Index: 7202 entries, 0 to 7977\n",
      "Data columns (total 20 columns):\n",
      " #   Column                Non-Null Count  Dtype \n",
      "---  ------                --------------  ----- \n",
      " 0   location              7202 non-null   object\n",
      " 1   floor                 7202 non-null   object\n",
      " 2   floors_count          7202 non-null   object\n",
      " 3   rooms_count           7202 non-null   object\n",
      " 4   total_meters          7202 non-null   object\n",
      " 5   price                 7202 non-null   object\n",
      " 6   year_of_construction  7202 non-null   object\n",
      " 7   object_type           7202 non-null   object\n",
      " 8   have_loggia           7202 non-null   object\n",
      " 9   parking_type          7202 non-null   object\n",
      " 10  house_material_type   7202 non-null   object\n",
      " 11  heating_type          7202 non-null   object\n",
      " 12  finish_type           7202 non-null   object\n",
      " 13  living_meters         7202 non-null   object\n",
      " 14  kitchen_meters        7202 non-null   object\n",
      " 15  ceiling_height        7202 non-null   object\n",
      " 16  district              2858 non-null   object\n",
      " 17  street                5714 non-null   object\n",
      " 18  underground           4999 non-null   object\n",
      " 19  residential_complex   3628 non-null   object\n",
      "dtypes: object(20)\n",
      "memory usage: 1.2+ MB\n"
     ]
    }
   ],
   "source": [
    "df.info()"
   ]
  },
  {
   "cell_type": "code",
   "execution_count": 355,
   "metadata": {},
   "outputs": [
    {
     "name": "stdout",
     "output_type": "stream",
     "text": [
      "['11' '26' '4' '24' '3' '57' '5' '23' '17' '15' '27' '10' '2' '13' '21'\n",
      " '8' '16' '9' '20' '19' '1' '7' '12' '14' '6' '22' '18' '37' '59' '32'\n",
      " '25' '31' '38' '40' '29' '36' '47' '82' '33' '46' '34' '30' '39' '75'\n",
      " '79' 'floor' '66' '60' '35' '51' '28' '41' '62' '48' '80' '53']\n",
      "____________________________________________________________________________________________________\n"
     ]
    },
    {
     "data": {
      "text/plain": [
       "array([11, 26,  4, 24,  3, 57,  5, 23, 17, 15, 27, 10,  2, 13, 21,  8, 16,\n",
       "        9, 20, 19,  1,  7, 12, 14,  6, 22, 18, 37, 59, 32, 25, 31, 38, 40,\n",
       "       29, 36, 47, 82, 33, 46, 34, 30, 39, 75, 79, 66, 60, 35, 51, 28, 41,\n",
       "       62, 48, 80, 53])"
      ]
     },
     "execution_count": 355,
     "metadata": {},
     "output_type": "execute_result"
    }
   ],
   "source": [
    "print(df['floor'].unique())\n",
    "df['floor'] = df['floor'].replace('floor', '3')\n",
    "df['floor'] = df['floor'].astype('int64')\n",
    "print('_' * 100)\n",
    "df['floor'].unique()\n"
   ]
  },
  {
   "cell_type": "code",
   "execution_count": 356,
   "metadata": {},
   "outputs": [
    {
     "name": "stdout",
     "output_type": "stream",
     "text": [
      "['13' '31' '8' '24' '9' '76' '5' '16' '17' '41' '27' '19' '11' '25' '4'\n",
      " '29' '14' '44' '28' '26' '36' '33' '2' '23' '39' '22' '45' '6' '20' '18'\n",
      " '21' '12' '10' '3' '15' '1' '7' '32' '37' '85' '53' '30' '42' '67' '63'\n",
      " '48' '47' '40' '55' '56' '35' '34' '49' '46' '79' '43' '95' '97' '65'\n",
      " '68' '64' '75' 'floors_count' '66' '57' '38' '51' '78' '52' '54' '77'\n",
      " '50']\n",
      "____________________________________________________________________________________________________\n"
     ]
    },
    {
     "data": {
      "text/plain": [
       "array([13, 31,  8, 24,  9, 76,  5, 16, 17, 41, 27, 19, 11, 25,  4, 29, 14,\n",
       "       44, 28, 26, 36, 33,  2, 23, 39, 22, 45,  6, 20, 18, 21, 12, 10,  3,\n",
       "       15,  1,  7, 32, 37, 85, 53, 30, 42, 67, 63, 48, 47, 40, 55, 56, 35,\n",
       "       34, 49, 46, 79, 43, 95, 97, 65, 68, 64, 75, 66, 57, 38, 51, 78, 52,\n",
       "       54, 77, 50])"
      ]
     },
     "execution_count": 356,
     "metadata": {},
     "output_type": "execute_result"
    }
   ],
   "source": [
    "print(df['floors_count'].unique())\n",
    "df['floors_count'].unique()\n",
    "df['floors_count'] = (df['floors_count'].replace({'floors_count': '3', -1: np.nan}))\n",
    "df['floors_count'] = df['floors_count'].astype(float)\n",
    "mean_value = df['floors_count'].mean()\n",
    "df['floors_count'] = df['floors_count'].fillna(mean_value)\n",
    "df['floors_count'] = df['floors_count'].astype('int64')\n",
    "print('_' * 100)\n",
    "df['floors_count'].unique()\n"
   ]
  },
  {
   "cell_type": "code",
   "execution_count": 357,
   "metadata": {},
   "outputs": [
    {
     "name": "stdout",
     "output_type": "stream",
     "text": [
      "['5' '-1' '1' '3' '2' '4' 'rooms_count']\n"
     ]
    },
    {
     "data": {
      "text/plain": [
       "array([ 5, -1,  1,  3,  2,  4])"
      ]
     },
     "execution_count": 357,
     "metadata": {},
     "output_type": "execute_result"
    }
   ],
   "source": [
    "print(df['rooms_count'].unique())\n",
    "df['rooms_count'] = (df['rooms_count'].replace({'rooms_count': '3', -1: np.nan}))\n",
    "df['rooms_count'] = df['rooms_count'].astype(float)\n",
    "mean_value = df['rooms_count'].mean()\n",
    "df['rooms_count'] = df['rooms_count'].fillna(mean_value)\n",
    "df['rooms_count'] = df['rooms_count'].astype(int)\n",
    "df['rooms_count'].unique()"
   ]
  },
  {
   "cell_type": "code",
   "execution_count": 358,
   "metadata": {},
   "outputs": [
    {
     "name": "stdout",
     "output_type": "stream",
     "text": [
      "     location  floor  floors_count  rooms_count total_meters      price  \\\n",
      "0      Москва     11            13            5        265.6  405328840   \n",
      "1      Москва     26            31            5        246.7  288063785   \n",
      "2      Москва      4             8            5        117.0   58500000   \n",
      "3      Москва     24            24            5        172.5  207000000   \n",
      "4      Москва      3             9            5        234.8  125000000   \n",
      "...       ...    ...           ...          ...          ...        ...   \n",
      "7973    Химки      2             5            2         43.5    7700000   \n",
      "7974    Химки      2            16            2         60.4   11850480   \n",
      "7975    Химки      7            17            2         41.0    9000000   \n",
      "7976    Химки      4             5            2         45.0    7900000   \n",
      "7977    Химки      7             8            2         61.8   10689285   \n",
      "\n",
      "     year_of_construction  object_type          have_loggia    parking_type  \\\n",
      "0                    2024  Новостройка                   -1              -1   \n",
      "1                    2008     Вторичка            3 балкона       Подземная   \n",
      "2                    1939     Вторичка             1 балкон        Открытая   \n",
      "3                    2024  Новостройка                   -1              -1   \n",
      "4                    1999     Вторичка  1 лоджия, 2 балкона       Подземная   \n",
      "...                   ...          ...                  ...             ...   \n",
      "7973                 1962     Вторичка             1 балкон        Наземная   \n",
      "7974                 2026  Новостройка             1 балкон       Подземная   \n",
      "7975                 2016     Вторичка             1 лоджия       Подземная   \n",
      "7976                   -1     Вторичка             1 балкон        Наземная   \n",
      "7977                 2022  Новостройка             1 лоджия  Многоуровневая   \n",
      "\n",
      "      house_material_type heating_type                finish_type  \\\n",
      "0              Монолитный           -1                   Чистовая   \n",
      "1                      -1           -1                         -1   \n",
      "2                      -1           -1                         -1   \n",
      "3     Монолитно-кирпичный           -1                Без отделки   \n",
      "4                      -1           -1                         -1   \n",
      "...                   ...          ...                        ...   \n",
      "7973                   -1           -1                         -1   \n",
      "7974           Монолитный           -1     Предчистовая, чистовая   \n",
      "7975                   -1           -1                         -1   \n",
      "7976                   -1           -1                         -1   \n",
      "7977  Монолитно-кирпичный           -1  Без отделки, предчистовая   \n",
      "\n",
      "     living_meters kitchen_meters ceiling_height             district  \\\n",
      "0               -1             -1            3 м         Дорогомилово   \n",
      "1         140,9 м²          28 м²          3,1 м  Очаково-Матвеевское   \n",
      "2               -1          10 м²          3,2 м          Пресненский   \n",
      "3         104,6 м²        10,5 м²          3,2 м       Филевский парк   \n",
      "4           140 м²          23 м²             -1             Тверской   \n",
      "...            ...            ...            ...                  ...   \n",
      "7973       28,4 м²           6 м²         2,77 м                  NaN   \n",
      "7974         24 м²        13,6 м²         2,72 м                  NaN   \n",
      "7975         24 м²           6 м²          2,8 м                  NaN   \n",
      "7976         30 м²           6 м²             -1                  NaN   \n",
      "7977            -1             -1         3,15 м                  NaN   \n",
      "\n",
      "                   street     underground         residential_complex  \n",
      "0                     NaN     Парк Победы  Виктори Парк Резиденсез ЖК  \n",
      "1              Нежинская        Давыдково         Кутузовская Ривьера  \n",
      "2        Большая Садовая       Маяковская                         NaN  \n",
      "3        Береговой проезд            Фили                 Береговой-2  \n",
      "4     Краснопролетарская   Новослободская           Ласточкино гнездо  \n",
      "...                   ...             ...                         ...  \n",
      "7973        Первомайская            Химки                         NaN  \n",
      "7974                  NaN      Хлебниково           1-й Химкинский ЖК  \n",
      "7975       Германа Титова           Химки           Солнечная система  \n",
      "7976             Ватутина           Химки                         NaN  \n",
      "7977   Генерала Дьяконова         Водники                     Rafinad  \n",
      "\n",
      "[7202 rows x 20 columns]\n"
     ]
    }
   ],
   "source": [
    "df['total_meters'] = df['total_meters'].replace(-1, 0)\n",
    "\n",
    "print(df)\n"
   ]
  }
 ],
 "metadata": {
  "kernelspec": {
   "display_name": ".venv",
   "language": "python",
   "name": "python3"
  },
  "language_info": {
   "codemirror_mode": {
    "name": "ipython",
    "version": 3
   },
   "file_extension": ".py",
   "mimetype": "text/x-python",
   "name": "python",
   "nbconvert_exporter": "python",
   "pygments_lexer": "ipython3",
   "version": "3.12.4"
  }
 },
 "nbformat": 4,
 "nbformat_minor": 2
}
